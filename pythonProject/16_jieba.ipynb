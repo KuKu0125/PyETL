{
 "cells": [
  {
   "cell_type": "code",
   "execution_count": 7,
   "id": "f26266e5",
   "metadata": {},
   "outputs": [],
   "source": [
    "import jieba"
   ]
  },
  {
   "cell_type": "code",
   "execution_count": 8,
   "id": "4f76f9d5",
   "metadata": {},
   "outputs": [],
   "source": [
    "s = '哈囉你好ㄇ，跑出來結果一樣我只好多打一點字'"
   ]
  },
  {
   "cell_type": "code",
   "execution_count": 9,
   "id": "509b3a5f",
   "metadata": {},
   "outputs": [
    {
     "data": {
      "text/plain": [
       "<generator object Tokenizer.cut at 0x0000013B53DAD6D0>"
      ]
     },
     "execution_count": 9,
     "metadata": {},
     "output_type": "execute_result"
    }
   ],
   "source": [
    "jieba.cut(s, cut_all=True)"
   ]
  },
  {
   "cell_type": "code",
   "execution_count": 10,
   "id": "01d1b40f",
   "metadata": {},
   "outputs": [
    {
     "name": "stdout",
     "output_type": "stream",
     "text": [
      "哈\n",
      "囉\n",
      "你好\n",
      "ㄇ，\n",
      "跑\n",
      "出\n",
      "來\n",
      "結\n",
      "果\n",
      "一\n",
      "樣\n",
      "我\n",
      "只好\n",
      "好多\n",
      "打\n",
      "一\n",
      "點\n",
      "字\n"
     ]
    }
   ],
   "source": [
    "word_gen = jieba.cut(s, cut_all=True)\n",
    "for w in word_gen:\n",
    "    print(w)"
   ]
  },
  {
   "cell_type": "code",
   "execution_count": 11,
   "id": "4fcb1ae1",
   "metadata": {},
   "outputs": [],
   "source": [
    "for w in word_gen:\n",
    "    print(w)"
   ]
  },
  {
   "cell_type": "code",
   "execution_count": 12,
   "id": "6004cf55",
   "metadata": {},
   "outputs": [
    {
     "name": "stdout",
     "output_type": "stream",
     "text": [
      "哈\n",
      "囉\n",
      "你好\n",
      "ㄇ\n",
      "，\n",
      "跑\n",
      "出來\n",
      "結果\n",
      "一樣\n",
      "我\n",
      "只好\n",
      "多\n",
      "打\n",
      "一點\n",
      "字\n"
     ]
    }
   ],
   "source": [
    "word_gen = jieba.cut(s, cut_all=False)\n",
    "for w in word_gen:\n",
    "    print(w)"
   ]
  },
  {
   "cell_type": "code",
   "execution_count": 13,
   "id": "f18c913c",
   "metadata": {},
   "outputs": [
    {
     "name": "stdout",
     "output_type": "stream",
     "text": [
      "哈\n",
      "囉\n",
      "你好\n",
      "ㄇ\n",
      "，\n",
      "跑\n",
      "出來\n",
      "結果\n",
      "一樣\n",
      "我\n",
      "只好\n",
      "多\n",
      "打\n",
      "一點\n",
      "字\n"
     ]
    }
   ],
   "source": [
    "word_gen = jieba.cut(s)\n",
    "for w in word_gen:\n",
    "    print(w)"
   ]
  },
  {
   "cell_type": "code",
   "execution_count": 14,
   "id": "0adc0043",
   "metadata": {},
   "outputs": [
    {
     "name": "stdout",
     "output_type": "stream",
     "text": [
      "哈\n",
      "囉\n",
      "你好\n",
      "ㄇ\n",
      "，\n",
      "跑\n",
      "出來\n",
      "結果\n",
      "一樣\n",
      "我\n",
      "只好\n",
      "多\n",
      "打\n",
      "一點\n",
      "字\n"
     ]
    }
   ],
   "source": [
    "word_gen = jieba.cut_for_search(s)\n",
    "for w in word_gen:\n",
    "    print(w)"
   ]
  },
  {
   "cell_type": "code",
   "execution_count": 16,
   "id": "8fbdf2ba",
   "metadata": {},
   "outputs": [
    {
     "data": {
      "text/plain": [
       "'哈|囉|你好|ㄇ|，|跑|出來|結果|一樣|我|只好|多|打|一點|字'"
      ]
     },
     "execution_count": 16,
     "metadata": {},
     "output_type": "execute_result"
    }
   ],
   "source": [
    "'|'.join(jieba.cut(s))"
   ]
  },
  {
   "cell_type": "code",
   "execution_count": 21,
   "id": "76cc21bf",
   "metadata": {},
   "outputs": [],
   "source": [
    "jieba.load_userdict('./mydict.txt')"
   ]
  },
  {
   "cell_type": "code",
   "execution_count": 22,
   "id": "ecfd96ef",
   "metadata": {},
   "outputs": [
    {
     "data": {
      "text/plain": [
       "'哈囉|你好|ㄇ|，|跑出來|結果|一樣|我|只好|多|打|一點|字'"
      ]
     },
     "execution_count": 22,
     "metadata": {},
     "output_type": "execute_result"
    }
   ],
   "source": [
    "'|'.join(jieba.cut(s))"
   ]
  },
  {
   "cell_type": "code",
   "execution_count": 23,
   "id": "12e4a4a1",
   "metadata": {},
   "outputs": [
    {
     "data": {
      "text/plain": [
       "'哈囉|你好|ㄇ|，|跑出來|結果|一樣|我|只好|多|打|一點|字'"
      ]
     },
     "execution_count": 23,
     "metadata": {},
     "output_type": "execute_result"
    }
   ],
   "source": [
    " '|'.join(jieba.cut_for_search(s))"
   ]
  },
  {
   "cell_type": "code",
   "execution_count": null,
   "id": "688f9374",
   "metadata": {},
   "outputs": [],
   "source": []
  }
 ],
 "metadata": {
  "kernelspec": {
   "display_name": "Python 3 (ipykernel)",
   "language": "python",
   "name": "python3"
  },
  "language_info": {
   "codemirror_mode": {
    "name": "ipython",
    "version": 3
   },
   "file_extension": ".py",
   "mimetype": "text/x-python",
   "name": "python",
   "nbconvert_exporter": "python",
   "pygments_lexer": "ipython3",
   "version": "3.8.10"
  }
 },
 "nbformat": 4,
 "nbformat_minor": 5
}
